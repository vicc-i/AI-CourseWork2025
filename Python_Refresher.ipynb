{
  "nbformat": 4,
  "nbformat_minor": 0,
  "metadata": {
    "colab": {
      "provenance": []
    },
    "kernelspec": {
      "name": "python3",
      "display_name": "Python 3"
    },
    "language_info": {
      "name": "python"
    }
  },
  "cells": [
    {
      "cell_type": "code",
      "execution_count": 2,
      "metadata": {
        "colab": {
          "base_uri": "https://localhost:8080/"
        },
        "id": "MprHuu7lfTMD",
        "outputId": "6b4df508-017a-44a1-f535-73fb6978dede"
      },
      "outputs": [
        {
          "output_type": "stream",
          "name": "stdout",
          "text": [
            "Enter the number of days: 10\n",
            "10.0 day(s) equals 864,000 seconds\n"
          ]
        }
      ],
      "source": [
        "days = float(input(\"Enter the number of days: \"))\n",
        "\n",
        "seconds_per_day = 24 * 60 * 60\n",
        "total_seconds = days * seconds_per_day\n",
        "\n",
        "# result\n",
        "print(f\"{days} day(s) equals {total_seconds:,.0f} seconds\")"
      ]
    },
    {
      "cell_type": "code",
      "source": [
        "import math\n",
        "\n",
        "def sphere_volume():\n",
        "# input from user\n",
        "    radius = float(input(\"Enter the radius of the sphere: \"))\n",
        "\n",
        "    # Calculate volume\n",
        "    volume = (4/3) * math.pi * (radius ** 3)\n",
        "\n",
        "    # result\n",
        "    print(f\"The volume of a sphere with radius {radius} is {volume:.2f} cubic units\")\n",
        "\n",
        "sphere_volume()"
      ],
      "metadata": {
        "colab": {
          "base_uri": "https://localhost:8080/"
        },
        "id": "LE58R9EXoRbM",
        "outputId": "344b3d45-01bd-49da-8d59-26dd8975b886"
      },
      "execution_count": 4,
      "outputs": [
        {
          "output_type": "stream",
          "name": "stdout",
          "text": [
            "Enter the radius of the sphere: 14\n",
            "The volume of a sphere with radius 14.0 is 11494.04 cubic units\n"
          ]
        }
      ]
    },
    {
      "cell_type": "code",
      "source": [
        "def calculate_area(side_length):\n",
        "\n",
        "    return side_length ** 2\n",
        "\n",
        "def calculate_perimeter(side_length):\n",
        "\n",
        "    return 4 * side_length\n",
        "\n",
        "def square_calculations():\n",
        "    # input from user\n",
        "    side = float(input(\"Enter the side length of the square: \"))\n",
        "\n",
        "    # Calculate area and perimeter\n",
        "    area = calculate_area(side)\n",
        "    perimeter = calculate_perimeter(side)\n",
        "\n",
        "    # results\n",
        "    print(f\"Square with side length {side}:\")\n",
        "    print(f\"Area: {area}\")\n",
        "    print(f\"Perimeter: {perimeter}\")\n",
        "\n",
        "square_calculations()"
      ],
      "metadata": {
        "colab": {
          "base_uri": "https://localhost:8080/"
        },
        "id": "vbYcWAecpXah",
        "outputId": "3ecec1e2-9b66-4e51-d7bf-e913053154e4"
      },
      "execution_count": 10,
      "outputs": [
        {
          "output_type": "stream",
          "name": "stdout",
          "text": [
            "Enter the side length of the square: 5\n",
            "Square with side length 5.0:\n",
            "Area: 25.0\n",
            "Perimeter: 20.0\n"
          ]
        }
      ]
    },
    {
      "cell_type": "code",
      "source": [
        "def check_case(character):\n",
        "\n",
        "    if character.isupper():\n",
        "        return \"uppercase\"\n",
        "    elif character.islower():\n",
        "        return \"lowercase\"\n",
        "    else:\n",
        "        return \"not a letter\"\n",
        "\n",
        "def character_case_checker():\n",
        "\n",
        "    # input from user\n",
        "    char = input(\"Enter a character: \")\n",
        "\n",
        "    # Check if input is a single character\n",
        "    if len(char) == 1:\n",
        "        # Determine the case\n",
        "        case_result = check_case(char)\n",
        "\n",
        "        # result\n",
        "        if case_result == \"not a letter\":\n",
        "            print(f\"'{char}' is not a letter\")\n",
        "        else:\n",
        "            print(f\"The character '{char}' is {case_result}\")\n",
        "    else:\n",
        "        print(\"Please enter only one character\")\n",
        "\n",
        "character_case_checker()"
      ],
      "metadata": {
        "colab": {
          "base_uri": "https://localhost:8080/"
        },
        "id": "XTBfdof4ppBt",
        "outputId": "7a6347b9-fb9e-4a8d-f848-e14a17e66413"
      },
      "execution_count": 11,
      "outputs": [
        {
          "output_type": "stream",
          "name": "stdout",
          "text": [
            "Enter a character: f\n",
            "The character 'f' is lowercase\n"
          ]
        }
      ]
    },
    {
      "cell_type": "code",
      "source": [
        "def pseudocode_conversion():\n",
        "\n",
        "    # Initialize variables\n",
        "    j = 0\n",
        "    k = 20\n",
        "\n",
        "    # Display initial values\n",
        "    print(\"Initial values: j =\", j, \", k =\", k)\n",
        "    print(\"\\nLoop iterations:\")\n",
        "\n",
        "    # REPEAT...UNTIL loop\n",
        "    iteration = 1\n",
        "    while k >= 6:  # Continue while k is NOT less than 6\n",
        "        # SUBTRACT 4 FROM k\n",
        "        k = k - 4\n",
        "\n",
        "        # ADD 2/k TO j\n",
        "        j = j + (2/k)\n",
        "\n",
        "        # Display current iteration values for tracking\n",
        "        print(f\"Iteration {iteration}: k = {k}, j = {j:.4f}\")\n",
        "        iteration += 1\n",
        "\n",
        "    # DISPLAY j (final result)\n",
        "    print(f\"\\nFinal result: j = {j:.4f}\")\n",
        "\n",
        "pseudocode_conversion()"
      ],
      "metadata": {
        "colab": {
          "base_uri": "https://localhost:8080/"
        },
        "id": "CIUdUDFiq_iN",
        "outputId": "0139a8b6-698c-497b-88ae-a91c314bf8d2"
      },
      "execution_count": 12,
      "outputs": [
        {
          "output_type": "stream",
          "name": "stdout",
          "text": [
            "Initial values: x = 0 , y = 20\n",
            "\n",
            "Loop iterations:\n",
            "Iteration 1: y = 16, x = 0.1250\n",
            "Iteration 2: y = 12, x = 0.2917\n",
            "Iteration 3: y = 8, x = 0.5417\n",
            "Iteration 4: y = 4, x = 1.0417\n",
            "\n",
            "Final result: x = 1.0417\n"
          ]
        }
      ]
    },
    {
      "cell_type": "code",
      "source": [
        "def array_average():\n",
        "\n",
        "    # Initialize empty list\n",
        "    values = []\n",
        "\n",
        "    # Use loop to get 5 values\n",
        "    print(\"Please enter 5 numbers:\")\n",
        "    for i in range(5):\n",
        "        while True:\n",
        "            try:\n",
        "                # Get input and convert to float\n",
        "                value = float(input(f\"Enter value {i+1}: \"))\n",
        "                values.append(value)  # Add value to array\n",
        "                break  # Exit the while loop if input is valid\n",
        "            except ValueError:\n",
        "                print(\"Please enter a valid number\")\n",
        "\n",
        "    # Display the values\n",
        "    print(f\"\\nValues entered: {values}\")\n",
        "\n",
        "    # Calculate average\n",
        "    total = sum(values)  # Sum all values in the array\n",
        "    average = total / len(values)  # Calculate average\n",
        "\n",
        "    # results\n",
        "    print(f\"Sum of values: {total}\")\n",
        "    print(f\"Average of values: {average:.2f}\")\n",
        "\n",
        "array_average()\n"
      ],
      "metadata": {
        "colab": {
          "base_uri": "https://localhost:8080/"
        },
        "id": "dAjwxibQrZk0",
        "outputId": "863ea38b-2235-450e-b128-ae07066544b8"
      },
      "execution_count": 13,
      "outputs": [
        {
          "output_type": "stream",
          "name": "stdout",
          "text": [
            "Please enter 5 numbers:\n",
            "Enter value 1: 4\n",
            "Enter value 2: 5\n",
            "Enter value 3: 7\n",
            "Enter value 4: 4\n",
            "Enter value 5: 2\n",
            "\n",
            "Values entered: [4.0, 5.0, 7.0, 4.0, 2.0]\n",
            "Sum of values: 22.0\n",
            "Average of values: 4.40\n"
          ]
        }
      ]
    },
    {
      "cell_type": "markdown",
      "source": [],
      "metadata": {
        "id": "j9KRZLWGvMTp"
      }
    }
  ]
}